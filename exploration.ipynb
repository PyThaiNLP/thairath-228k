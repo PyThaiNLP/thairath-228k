{
 "cells": [
  {
   "cell_type": "markdown",
   "metadata": {
    "collapsed": true
   },
   "source": [
    "# `thairath-228k` Dataset\n"
   ]
  },
  {
   "cell_type": "markdown",
   "metadata": {},
   "source": [
    "This notebook performs a preliminary exploration of the `thairath-228k` dataset which was scraped from the news site [Thairath](thairath.co.th \"thairath.co.th\").\n",
    "After filtering, it contains 228,937 articles with 388,383 tags from October 1, 2014 to October 21, 2019. This dataset was crawled and cleaned by [@nakhunchumpolsathien](https://github.com/nakhunchumpolsathien) and [@CaramelWaffle](https://github.com/caramelWaffle)."
   ]
  },
  {
   "cell_type": "markdown",
   "metadata": {},
   "source": [
    "We selected the following tags with substantial volume that resemble **classifying types of articles**:\n",
    "- `ข่าวทั่วไป` - General News\n",
    "- `ข่าวกีฬา` - Sport News\n",
    "- `ข่าวทั่วไทย` - Local News\n",
    "- `ข่าวการเมือง` - Political News\n",
    "- `ข่าวสังคม` - Society News\n",
    "- `ข่าวเศรษฐกิจ` - Economic News\n",
    "- `ข่าวบันเทิง` -  Entertainment News\n",
    "- `ข่าวโซเชียล` - Socialnetwork News\n",
    "- `เลือกตั้ง` - Election \n",
    "- `ข่าวต่างประเทศ` - International News\n",
    "- `ข่าวไลฟ์สไตล์` - Lifestyle News\n",
    "- `การศึกษา` - Education"
   ]
  },
  {
   "cell_type": "markdown",
   "metadata": {},
   "source": [
    "This is a **multi-label classification task** and we use **F1-score** for each label as the benchmark. The benchmark include both **title classification** and **body classification**."
   ]
  },
  {
   "cell_type": "code",
   "execution_count": 42,
   "metadata": {},
   "outputs": [],
   "source": [
    "import pandas as pd\n",
    "import numpy as np\n",
    "from pythainlp import word_tokenize\n",
    "from ast import literal_eval\n",
    "from tqdm import tqdm_notebook\n",
    "from collections import Counter\n",
    "\n",
    "#viz\n",
    "from plotnine import *\n",
    "import matplotlib.pyplot as plt\n",
    "import seaborn as sns"
   ]
  },
  {
   "cell_type": "code",
   "execution_count": 43,
   "metadata": {},
   "outputs": [],
   "source": [
    "# #snippet to install thai font in matplotlib from https://gist.github.com/korakot/9d7f5db632351dc92607fdec72a4953f\n",
    "import matplotlib\n",
    "\n",
    "# !wget https://github.com/Phonbopit/sarabun-webfont/raw/master/fonts/thsarabunnew-webfont.ttf\n",
    "# !cp thsarabunnew-webfont.ttf /usr/local/lib/python3.6/dist-packages/matplotlib/mpl-data/fonts/ttf/\n",
    "# !cp thsarabunnew-webfont.ttf /usr/share/fonts/truetype/\n",
    "\n",
    "matplotlib.font_manager._rebuild()\n",
    "matplotlib.rc('font', family='TH Sarabun New')"
   ]
  },
  {
   "cell_type": "code",
   "execution_count": 4,
   "metadata": {},
   "outputs": [
    {
     "name": "stdout",
     "output_type": "stream",
     "text": [
      "(228937, 4)\n"
     ]
    },
    {
     "data": {
      "text/html": [
       "<div>\n",
       "<style scoped>\n",
       "    .dataframe tbody tr th:only-of-type {\n",
       "        vertical-align: middle;\n",
       "    }\n",
       "\n",
       "    .dataframe tbody tr th {\n",
       "        vertical-align: top;\n",
       "    }\n",
       "\n",
       "    .dataframe thead th {\n",
       "        text-align: right;\n",
       "    }\n",
       "</style>\n",
       "<table border=\"1\" class=\"dataframe\">\n",
       "  <thead>\n",
       "    <tr style=\"text-align: right;\">\n",
       "      <th></th>\n",
       "      <th>title</th>\n",
       "      <th>body</th>\n",
       "      <th>summary</th>\n",
       "      <th>tags</th>\n",
       "    </tr>\n",
       "  </thead>\n",
       "  <tbody>\n",
       "    <tr>\n",
       "      <td>0</td>\n",
       "      <td>ส่ง หลวงพ่ออลงกต วัดพระบาทน้ำพุ ถึงมือหมอแล้ว ...</td>\n",
       "      <td>ผู้สื่อข่าวรายงานว่า เมื่อเวลา 19.30 น. วันที่...</td>\n",
       "      <td>หลวงพ่ออลงกต วัดพระบาทน้ำพุ ประสบอุบัติเหตุขณะ...</td>\n",
       "      <td>['หลวงพ่ออลงกต', 'วัดพระบาทน้ำพุ', 'หลวงพ่ออลง...</td>\n",
       "    </tr>\n",
       "    <tr>\n",
       "      <td>1</td>\n",
       "      <td>สุดสลด ฝนถล่ม 2 รัฐอินเดีย น้ำท่วมใหญ่ดับกว่า ...</td>\n",
       "      <td>รายงานเมื่อ 30 ก.ย. 2562 ว่า เกิดเหตุน้ำท่วมฉั...</td>\n",
       "      <td>เกิดฝนตกหนักจนทำให้เกิดน้ำท่วมฉับพลันใน 2 รัฐข...</td>\n",
       "      <td>['น้ำท่วม', 'อินเดีย', 'ฝนตกหนัก', 'รัฐอุตตรปร...</td>\n",
       "    </tr>\n",
       "    <tr>\n",
       "      <td>2</td>\n",
       "      <td>โทมัส คุก ทำผวา</td>\n",
       "      <td>ที่สั่นคลอนกันมากขึ้นไปอีก นั่นคือ บริษัท โทมั...</td>\n",
       "      <td>บรรดาเจ้าของธุรกิจโรงแรมไทยที่มีสัญญารับลูกค้า...</td>\n",
       "      <td>['โทมัส คุก', 'ล้มละลาย', 'บริษัททัวร์', 'อังก...</td>\n",
       "    </tr>\n",
       "    <tr>\n",
       "      <td>3</td>\n",
       "      <td>ผีแดง พลาดเอง โดนปืนใหญ่ไล่เจ๊า 1-1 ศึกพรีเมีย...</td>\n",
       "      <td>เปิดฉากครึ่งแรก นาทีที่ 8 แมนฯยู ได้ทักทายก่อน...</td>\n",
       "      <td>การแข่งขันฟุตบอลพรีเมียร์ลีก อังกฤษ ฤดูกาล 201...</td>\n",
       "      <td>['แมนเชสเตอร์ ยูไนเต็ด', 'อาร์เซนอล', 'พรีเมีย...</td>\n",
       "    </tr>\n",
       "    <tr>\n",
       "      <td>4</td>\n",
       "      <td>รอวันฟ้าสว่าง</td>\n",
       "      <td>ฝากสารถึง พล.อ.ประยุทธ์ จันทร์โอชา นายกรัฐมนตร...</td>\n",
       "      <td>มีเสียงสะท้อนความอึดอัดของตำรวจกลุ่มหนึ่ง</td>\n",
       "      <td>['ส่องตำรวจ', 'สหบาท', 'ประยุทธ์ จันทร์โอชา', ...</td>\n",
       "    </tr>\n",
       "  </tbody>\n",
       "</table>\n",
       "</div>"
      ],
      "text/plain": [
       "                                               title  \\\n",
       "0  ส่ง หลวงพ่ออลงกต วัดพระบาทน้ำพุ ถึงมือหมอแล้ว ...   \n",
       "1  สุดสลด ฝนถล่ม 2 รัฐอินเดีย น้ำท่วมใหญ่ดับกว่า ...   \n",
       "2                                    โทมัส คุก ทำผวา   \n",
       "3  ผีแดง พลาดเอง โดนปืนใหญ่ไล่เจ๊า 1-1 ศึกพรีเมีย...   \n",
       "4                                      รอวันฟ้าสว่าง   \n",
       "\n",
       "                                                body  \\\n",
       "0  ผู้สื่อข่าวรายงานว่า เมื่อเวลา 19.30 น. วันที่...   \n",
       "1  รายงานเมื่อ 30 ก.ย. 2562 ว่า เกิดเหตุน้ำท่วมฉั...   \n",
       "2  ที่สั่นคลอนกันมากขึ้นไปอีก นั่นคือ บริษัท โทมั...   \n",
       "3  เปิดฉากครึ่งแรก นาทีที่ 8 แมนฯยู ได้ทักทายก่อน...   \n",
       "4  ฝากสารถึง พล.อ.ประยุทธ์ จันทร์โอชา นายกรัฐมนตร...   \n",
       "\n",
       "                                             summary  \\\n",
       "0  หลวงพ่ออลงกต วัดพระบาทน้ำพุ ประสบอุบัติเหตุขณะ...   \n",
       "1  เกิดฝนตกหนักจนทำให้เกิดน้ำท่วมฉับพลันใน 2 รัฐข...   \n",
       "2  บรรดาเจ้าของธุรกิจโรงแรมไทยที่มีสัญญารับลูกค้า...   \n",
       "3  การแข่งขันฟุตบอลพรีเมียร์ลีก อังกฤษ ฤดูกาล 201...   \n",
       "4          มีเสียงสะท้อนความอึดอัดของตำรวจกลุ่มหนึ่ง   \n",
       "\n",
       "                                                tags  \n",
       "0  ['หลวงพ่ออลงกต', 'วัดพระบาทน้ำพุ', 'หลวงพ่ออลง...  \n",
       "1  ['น้ำท่วม', 'อินเดีย', 'ฝนตกหนัก', 'รัฐอุตตรปร...  \n",
       "2  ['โทมัส คุก', 'ล้มละลาย', 'บริษัททัวร์', 'อังก...  \n",
       "3  ['แมนเชสเตอร์ ยูไนเต็ด', 'อาร์เซนอล', 'พรีเมีย...  \n",
       "4  ['ส่องตำรวจ', 'สหบาท', 'ประยุทธ์ จันทร์โอชา', ...  "
      ]
     },
     "execution_count": 4,
     "metadata": {},
     "output_type": "execute_result"
    }
   ],
   "source": [
    "thairath = pd.read_csv('data/thairath-228k.csv')\n",
    "print(thairath.shape)\n",
    "thairath.head()"
   ]
  },
  {
   "cell_type": "markdown",
   "metadata": {},
   "source": [
    "## Labels"
   ]
  },
  {
   "cell_type": "markdown",
   "metadata": {},
   "source": [
    "### Tag Distribution"
   ]
  },
  {
   "cell_type": "code",
   "execution_count": 5,
   "metadata": {},
   "outputs": [
    {
     "data": {
      "application/vnd.jupyter.widget-view+json": {
       "model_id": "3401fe58b1284638a177938ce428da2e",
       "version_major": 2,
       "version_minor": 0
      },
      "text/plain": [
       "HBox(children=(IntProgress(value=0, max=228937), HTML(value='')))"
      ]
     },
     "metadata": {},
     "output_type": "display_data"
    },
    {
     "name": "stdout",
     "output_type": "stream",
     "text": [
      "\n"
     ]
    }
   ],
   "source": [
    "all_labels = []\n",
    "for i in tqdm_notebook(range(thairath.shape[0])):\n",
    "    all_labels+=literal_eval(thairath.tags[i])"
   ]
  },
  {
   "cell_type": "code",
   "execution_count": 6,
   "metadata": {},
   "outputs": [
    {
     "name": "stdout",
     "output_type": "stream",
     "text": [
      "(388383, 2)\n"
     ]
    },
    {
     "data": {
      "text/html": [
       "<div>\n",
       "<style scoped>\n",
       "    .dataframe tbody tr th:only-of-type {\n",
       "        vertical-align: middle;\n",
       "    }\n",
       "\n",
       "    .dataframe tbody tr th {\n",
       "        vertical-align: top;\n",
       "    }\n",
       "\n",
       "    .dataframe thead th {\n",
       "        text-align: right;\n",
       "    }\n",
       "</style>\n",
       "<table border=\"1\" class=\"dataframe\">\n",
       "  <thead>\n",
       "    <tr style=\"text-align: right;\">\n",
       "      <th></th>\n",
       "      <th>label</th>\n",
       "      <th>cnt</th>\n",
       "    </tr>\n",
       "  </thead>\n",
       "  <tbody>\n",
       "    <tr>\n",
       "      <td>5</td>\n",
       "      <td>ข่าวทั่วไป</td>\n",
       "      <td>58401</td>\n",
       "    </tr>\n",
       "    <tr>\n",
       "      <td>4096</td>\n",
       "      <td>ไทยรัฐออนไลน์</td>\n",
       "      <td>51228</td>\n",
       "    </tr>\n",
       "    <tr>\n",
       "      <td>4098</td>\n",
       "      <td>ข่าว</td>\n",
       "      <td>49961</td>\n",
       "    </tr>\n",
       "    <tr>\n",
       "      <td>4134</td>\n",
       "      <td>ข่าวกีฬา</td>\n",
       "      <td>15557</td>\n",
       "    </tr>\n",
       "    <tr>\n",
       "      <td>4293</td>\n",
       "      <td>ไทยรัฐ</td>\n",
       "      <td>14812</td>\n",
       "    </tr>\n",
       "    <tr>\n",
       "      <td>4587</td>\n",
       "      <td>ข่าวทั่วไทย</td>\n",
       "      <td>14728</td>\n",
       "    </tr>\n",
       "    <tr>\n",
       "      <td>20</td>\n",
       "      <td>พรีเมียร์ลีก</td>\n",
       "      <td>9787</td>\n",
       "    </tr>\n",
       "    <tr>\n",
       "      <td>28808</td>\n",
       "      <td>หนังสือพิมพ์ไทยรัฐ</td>\n",
       "      <td>8099</td>\n",
       "    </tr>\n",
       "    <tr>\n",
       "      <td>4153</td>\n",
       "      <td>คอลัมน์ฉบับพิมพ์</td>\n",
       "      <td>7777</td>\n",
       "    </tr>\n",
       "    <tr>\n",
       "      <td>56525</td>\n",
       "      <td>คอลัมน์ไทยรัฐ</td>\n",
       "      <td>6662</td>\n",
       "    </tr>\n",
       "    <tr>\n",
       "      <td>11317</td>\n",
       "      <td>คอลัมน์</td>\n",
       "      <td>6489</td>\n",
       "    </tr>\n",
       "    <tr>\n",
       "      <td>4321</td>\n",
       "      <td>ข่าวการเมือง</td>\n",
       "      <td>6214</td>\n",
       "    </tr>\n",
       "    <tr>\n",
       "      <td>4116</td>\n",
       "      <td>ข่าวภูมิภาค</td>\n",
       "      <td>6097</td>\n",
       "    </tr>\n",
       "    <tr>\n",
       "      <td>24</td>\n",
       "      <td>ประยุทธ์ จันทร์โอชา</td>\n",
       "      <td>5859</td>\n",
       "    </tr>\n",
       "    <tr>\n",
       "      <td>111</td>\n",
       "      <td>ข่าวหน้า1</td>\n",
       "      <td>5598</td>\n",
       "    </tr>\n",
       "  </tbody>\n",
       "</table>\n",
       "</div>"
      ],
      "text/plain": [
       "                     label    cnt\n",
       "5               ข่าวทั่วไป  58401\n",
       "4096         ไทยรัฐออนไลน์  51228\n",
       "4098                  ข่าว  49961\n",
       "4134              ข่าวกีฬา  15557\n",
       "4293                ไทยรัฐ  14812\n",
       "4587           ข่าวทั่วไทย  14728\n",
       "20            พรีเมียร์ลีก   9787\n",
       "28808   หนังสือพิมพ์ไทยรัฐ   8099\n",
       "4153      คอลัมน์ฉบับพิมพ์   7777\n",
       "56525        คอลัมน์ไทยรัฐ   6662\n",
       "11317              คอลัมน์   6489\n",
       "4321          ข่าวการเมือง   6214\n",
       "4116           ข่าวภูมิภาค   6097\n",
       "24     ประยุทธ์ จันทร์โอชา   5859\n",
       "111              ข่าวหน้า1   5598"
      ]
     },
     "execution_count": 6,
     "metadata": {},
     "output_type": "execute_result"
    }
   ],
   "source": [
    "label_df = pd.DataFrame.from_dict(dict(Counter(all_labels)),orient='index').reset_index()\n",
    "label_df.columns = ['label','cnt']\n",
    "label_df.sort_values('cnt',ascending=False,inplace=True)\n",
    "print(label_df.shape)\n",
    "label_df.head(15)"
   ]
  },
  {
   "cell_type": "code",
   "execution_count": 7,
   "metadata": {},
   "outputs": [
    {
     "data": {
      "text/html": [
       "<div>\n",
       "<style scoped>\n",
       "    .dataframe tbody tr th:only-of-type {\n",
       "        vertical-align: middle;\n",
       "    }\n",
       "\n",
       "    .dataframe tbody tr th {\n",
       "        vertical-align: top;\n",
       "    }\n",
       "\n",
       "    .dataframe thead th {\n",
       "        text-align: right;\n",
       "    }\n",
       "</style>\n",
       "<table border=\"1\" class=\"dataframe\">\n",
       "  <thead>\n",
       "    <tr style=\"text-align: right;\">\n",
       "      <th></th>\n",
       "      <th>label</th>\n",
       "      <th>cnt</th>\n",
       "    </tr>\n",
       "  </thead>\n",
       "  <tbody>\n",
       "    <tr>\n",
       "      <td>195098</td>\n",
       "      <td>เริ่มโจมตีครั้งแรก</td>\n",
       "      <td>1</td>\n",
       "    </tr>\n",
       "    <tr>\n",
       "      <td>195100</td>\n",
       "      <td>พบโครงกระดูกในพระราชวังจันทน์</td>\n",
       "      <td>1</td>\n",
       "    </tr>\n",
       "    <tr>\n",
       "      <td>195101</td>\n",
       "      <td>ขุดค้นพระราชวังจันทน์</td>\n",
       "      <td>1</td>\n",
       "    </tr>\n",
       "    <tr>\n",
       "      <td>195102</td>\n",
       "      <td>แบดมินตัน ไชนา โอเพ่น 2016</td>\n",
       "      <td>1</td>\n",
       "    </tr>\n",
       "    <tr>\n",
       "      <td>195106</td>\n",
       "      <td>สนับสนุนรถกระเช้า</td>\n",
       "      <td>1</td>\n",
       "    </tr>\n",
       "    <tr>\n",
       "      <td>195107</td>\n",
       "      <td>ฉีดพ้นยา</td>\n",
       "      <td>1</td>\n",
       "    </tr>\n",
       "    <tr>\n",
       "      <td>195108</td>\n",
       "      <td>นาข้าวเสีย</td>\n",
       "      <td>1</td>\n",
       "    </tr>\n",
       "    <tr>\n",
       "      <td>195110</td>\n",
       "      <td>กรรมการองค์กรอิสระ</td>\n",
       "      <td>1</td>\n",
       "    </tr>\n",
       "    <tr>\n",
       "      <td>195112</td>\n",
       "      <td>เบสท์</td>\n",
       "      <td>1</td>\n",
       "    </tr>\n",
       "    <tr>\n",
       "      <td>388382</td>\n",
       "      <td>สมใจ พึ่งถนอม</td>\n",
       "      <td>1</td>\n",
       "    </tr>\n",
       "  </tbody>\n",
       "</table>\n",
       "</div>"
      ],
      "text/plain": [
       "                                label  cnt\n",
       "195098             เริ่มโจมตีครั้งแรก    1\n",
       "195100  พบโครงกระดูกในพระราชวังจันทน์    1\n",
       "195101          ขุดค้นพระราชวังจันทน์    1\n",
       "195102     แบดมินตัน ไชนา โอเพ่น 2016    1\n",
       "195106              สนับสนุนรถกระเช้า    1\n",
       "195107                       ฉีดพ้นยา    1\n",
       "195108                     นาข้าวเสีย    1\n",
       "195110             กรรมการองค์กรอิสระ    1\n",
       "195112                          เบสท์    1\n",
       "388382                  สมใจ พึ่งถนอม    1"
      ]
     },
     "execution_count": 7,
     "metadata": {},
     "output_type": "execute_result"
    }
   ],
   "source": [
    "label_df.tail(10)"
   ]
  },
  {
   "cell_type": "markdown",
   "metadata": {},
   "source": [
    "### Benchmark Labels"
   ]
  },
  {
   "cell_type": "markdown",
   "metadata": {},
   "source": [
    "Out of over 300,000 tags, we selected 12 tags as our **benchmark labels**."
   ]
  },
  {
   "cell_type": "code",
   "execution_count": 9,
   "metadata": {},
   "outputs": [],
   "source": [
    "benchmark_labels = ['ข่าวทั่วไป','ข่าวกีฬา','ข่าวการเมือง','ข่าวสังคม','ข่าวเศรษฐกิจ','ข่าวโซเชียล',\n",
    "                    'ข่าวบันเทิง','ข่าวต่างประเทศ','ข่าวทั่วไทย','เลือกตั้ง','ข่าวไลฟ์สไตล์','การศึกษา']\n",
    "\n",
    "def in_benchmark(x,label):\n",
    "    res = 1 if label in literal_eval(x) else 0\n",
    "    return(res)"
   ]
  },
  {
   "cell_type": "code",
   "execution_count": 10,
   "metadata": {},
   "outputs": [
    {
     "data": {
      "application/vnd.jupyter.widget-view+json": {
       "model_id": "a4a134fe3c704b2180902f8f2d1db5df",
       "version_major": 2,
       "version_minor": 0
      },
      "text/plain": [
       "HBox(children=(IntProgress(value=0, max=12), HTML(value='')))"
      ]
     },
     "metadata": {},
     "output_type": "display_data"
    },
    {
     "name": "stdout",
     "output_type": "stream",
     "text": [
      "\n"
     ]
    }
   ],
   "source": [
    "for label in tqdm_notebook(benchmark_labels):\n",
    "    if label == 'ไทยรัฐออนไลน์' or label == \"ข่าว\" or label == \"ไทยรัฐ\": continue\n",
    "    thairath[label] = thairath.tags.map(lambda x: in_benchmark(x,label))"
   ]
  },
  {
   "cell_type": "markdown",
   "metadata": {},
   "source": [
    "### Number of Labels Per Sample"
   ]
  },
  {
   "cell_type": "code",
   "execution_count": 11,
   "metadata": {},
   "outputs": [],
   "source": [
    "corr_df = thairath.iloc[:,4:]\n",
    "label_cnt = corr_df.sum(axis=1)\n",
    "label_cnt_df = pd.DataFrame.from_dict(dict(Counter(label_cnt)), orient='index').reset_index()\n",
    "label_cnt_df.columns = ['nb_label','cnt']\n",
    "label_cnt_df = label_cnt_df.sort_values('cnt',ascending=False)\n",
    "label_cnt_df['per'] = label_cnt_df.cnt / label_cnt_df.cnt.sum()"
   ]
  },
  {
   "cell_type": "code",
   "execution_count": 12,
   "metadata": {},
   "outputs": [
    {
     "data": {
      "image/png": "[encoded data removed]",
      "text/plain": [
       "<Figure size 640x480 with 1 Axes>"
      ]
     },
     "metadata": {
      "needs_background": "light"
     },
     "output_type": "display_data"
    },
    {
     "name": "stdout",
     "output_type": "stream",
     "text": [
      "<ggplot: (296161017)>\n"
     ]
    },
    {
     "data": {
      "text/html": [
       "<div>\n",
       "<style scoped>\n",
       "    .dataframe tbody tr th:only-of-type {\n",
       "        vertical-align: middle;\n",
       "    }\n",
       "\n",
       "    .dataframe tbody tr th {\n",
       "        vertical-align: top;\n",
       "    }\n",
       "\n",
       "    .dataframe thead th {\n",
       "        text-align: right;\n",
       "    }\n",
       "</style>\n",
       "<table border=\"1\" class=\"dataframe\">\n",
       "  <thead>\n",
       "    <tr style=\"text-align: right;\">\n",
       "      <th></th>\n",
       "      <th>nb_label</th>\n",
       "      <th>cnt</th>\n",
       "      <th>per</th>\n",
       "    </tr>\n",
       "  </thead>\n",
       "  <tbody>\n",
       "    <tr>\n",
       "      <td>1</td>\n",
       "      <td>0</td>\n",
       "      <td>117692</td>\n",
       "      <td>0.514080</td>\n",
       "    </tr>\n",
       "    <tr>\n",
       "      <td>0</td>\n",
       "      <td>1</td>\n",
       "      <td>105491</td>\n",
       "      <td>0.460786</td>\n",
       "    </tr>\n",
       "    <tr>\n",
       "      <td>2</td>\n",
       "      <td>2</td>\n",
       "      <td>5675</td>\n",
       "      <td>0.024788</td>\n",
       "    </tr>\n",
       "    <tr>\n",
       "      <td>3</td>\n",
       "      <td>3</td>\n",
       "      <td>78</td>\n",
       "      <td>0.000341</td>\n",
       "    </tr>\n",
       "    <tr>\n",
       "      <td>4</td>\n",
       "      <td>7</td>\n",
       "      <td>1</td>\n",
       "      <td>0.000004</td>\n",
       "    </tr>\n",
       "  </tbody>\n",
       "</table>\n",
       "</div>"
      ],
      "text/plain": [
       "   nb_label     cnt       per\n",
       "1         0  117692  0.514080\n",
       "0         1  105491  0.460786\n",
       "2         2    5675  0.024788\n",
       "3         3      78  0.000341\n",
       "4         7       1  0.000004"
      ]
     },
     "execution_count": 12,
     "metadata": {},
     "output_type": "execute_result"
    }
   ],
   "source": [
    "g = (ggplot(label_cnt_df,aes(x='factor(nb_label)', y='per')) + geom_bar(stat='identity') + theme_minimal() + scale_y_continuous(labels = lambda x: np.round(x*100,0)) +\n",
    "    xlab('Number of Labels per Sample') + ylab('Share of Samples (%)'))\n",
    "print(g)\n",
    "label_cnt_df"
   ]
  },
  {
   "cell_type": "markdown",
   "metadata": {},
   "source": [
    "### Benchmark Label Distribution"
   ]
  },
  {
   "cell_type": "code",
   "execution_count": 13,
   "metadata": {},
   "outputs": [
    {
     "data": {
      "text/html": [
       "<div>\n",
       "<style scoped>\n",
       "    .dataframe tbody tr th:only-of-type {\n",
       "        vertical-align: middle;\n",
       "    }\n",
       "\n",
       "    .dataframe tbody tr th {\n",
       "        vertical-align: top;\n",
       "    }\n",
       "\n",
       "    .dataframe thead th {\n",
       "        text-align: right;\n",
       "    }\n",
       "</style>\n",
       "<table border=\"1\" class=\"dataframe\">\n",
       "  <thead>\n",
       "    <tr style=\"text-align: right;\">\n",
       "      <th></th>\n",
       "      <th>label</th>\n",
       "      <th>cnt</th>\n",
       "    </tr>\n",
       "  </thead>\n",
       "  <tbody>\n",
       "    <tr>\n",
       "      <td>5</td>\n",
       "      <td>ข่าวทั่วไป</td>\n",
       "      <td>58401</td>\n",
       "    </tr>\n",
       "    <tr>\n",
       "      <td>4096</td>\n",
       "      <td>ไทยรัฐออนไลน์</td>\n",
       "      <td>51228</td>\n",
       "    </tr>\n",
       "    <tr>\n",
       "      <td>4098</td>\n",
       "      <td>ข่าว</td>\n",
       "      <td>49961</td>\n",
       "    </tr>\n",
       "    <tr>\n",
       "      <td>4134</td>\n",
       "      <td>ข่าวกีฬา</td>\n",
       "      <td>15557</td>\n",
       "    </tr>\n",
       "    <tr>\n",
       "      <td>4293</td>\n",
       "      <td>ไทยรัฐ</td>\n",
       "      <td>14812</td>\n",
       "    </tr>\n",
       "    <tr>\n",
       "      <td>...</td>\n",
       "      <td>...</td>\n",
       "      <td>...</td>\n",
       "    </tr>\n",
       "    <tr>\n",
       "      <td>195107</td>\n",
       "      <td>ฉีดพ้นยา</td>\n",
       "      <td>1</td>\n",
       "    </tr>\n",
       "    <tr>\n",
       "      <td>195108</td>\n",
       "      <td>นาข้าวเสีย</td>\n",
       "      <td>1</td>\n",
       "    </tr>\n",
       "    <tr>\n",
       "      <td>195110</td>\n",
       "      <td>กรรมการองค์กรอิสระ</td>\n",
       "      <td>1</td>\n",
       "    </tr>\n",
       "    <tr>\n",
       "      <td>195112</td>\n",
       "      <td>เบสท์</td>\n",
       "      <td>1</td>\n",
       "    </tr>\n",
       "    <tr>\n",
       "      <td>388382</td>\n",
       "      <td>สมใจ พึ่งถนอม</td>\n",
       "      <td>1</td>\n",
       "    </tr>\n",
       "  </tbody>\n",
       "</table>\n",
       "<p>388383 rows × 2 columns</p>\n",
       "</div>"
      ],
      "text/plain": [
       "                     label    cnt\n",
       "5               ข่าวทั่วไป  58401\n",
       "4096         ไทยรัฐออนไลน์  51228\n",
       "4098                  ข่าว  49961\n",
       "4134              ข่าวกีฬา  15557\n",
       "4293                ไทยรัฐ  14812\n",
       "...                    ...    ...\n",
       "195107            ฉีดพ้นยา      1\n",
       "195108          นาข้าวเสีย      1\n",
       "195110  กรรมการองค์กรอิสระ      1\n",
       "195112               เบสท์      1\n",
       "388382       สมใจ พึ่งถนอม      1\n",
       "\n",
       "[388383 rows x 2 columns]"
      ]
     },
     "execution_count": 13,
     "metadata": {},
     "output_type": "execute_result"
    }
   ],
   "source": [
    "label_df"
   ]
  },
  {
   "cell_type": "code",
   "execution_count": 16,
   "metadata": {},
   "outputs": [],
   "source": [
    "label_df = corr_df.sum(axis=0).reset_index()\n",
    "label_df.columns = ['label','cnt']\n",
    "label_df['per'] = label_df.cnt / label_df.cnt.sum()\n",
    "label_df.sort_values('per',ascending=False,inplace=True)\n",
    "label_df['en_label'] =['00 - General News','01 - Sport News','02 - Local News','03 - Political News','04 - Society News',\n",
    "                       '05 - Economic News','06 - Entertainment News','07 - Socialnetwork News',\n",
    "                       '08 - Election','09 - International News','10 - Lifestyle News','11 - Education']"
   ]
  },
  {
   "cell_type": "code",
   "execution_count": 17,
   "metadata": {},
   "outputs": [
    {
     "data": {
      "image/png": "[encoded data removed]",
      "text/plain": [
       "<Figure size 640x480 with 1 Axes>"
      ]
     },
     "metadata": {
      "needs_background": "light"
     },
     "output_type": "display_data"
    },
    {
     "name": "stdout",
     "output_type": "stream",
     "text": [
      "<ggplot: (7548452545)>\n"
     ]
    },
    {
     "data": {
      "text/html": [
       "<div>\n",
       "<style scoped>\n",
       "    .dataframe tbody tr th:only-of-type {\n",
       "        vertical-align: middle;\n",
       "    }\n",
       "\n",
       "    .dataframe tbody tr th {\n",
       "        vertical-align: top;\n",
       "    }\n",
       "\n",
       "    .dataframe thead th {\n",
       "        text-align: right;\n",
       "    }\n",
       "</style>\n",
       "<table border=\"1\" class=\"dataframe\">\n",
       "  <thead>\n",
       "    <tr style=\"text-align: right;\">\n",
       "      <th></th>\n",
       "      <th>label</th>\n",
       "      <th>cnt</th>\n",
       "      <th>per</th>\n",
       "      <th>en_label</th>\n",
       "    </tr>\n",
       "  </thead>\n",
       "  <tbody>\n",
       "    <tr>\n",
       "      <td>0</td>\n",
       "      <td>ข่าวทั่วไป</td>\n",
       "      <td>58401</td>\n",
       "      <td>0.498804</td>\n",
       "      <td>00 - General News</td>\n",
       "    </tr>\n",
       "    <tr>\n",
       "      <td>1</td>\n",
       "      <td>ข่าวกีฬา</td>\n",
       "      <td>15557</td>\n",
       "      <td>0.132873</td>\n",
       "      <td>01 - Sport News</td>\n",
       "    </tr>\n",
       "    <tr>\n",
       "      <td>8</td>\n",
       "      <td>ข่าวทั่วไทย</td>\n",
       "      <td>14728</td>\n",
       "      <td>0.125792</td>\n",
       "      <td>02 - Local News</td>\n",
       "    </tr>\n",
       "    <tr>\n",
       "      <td>2</td>\n",
       "      <td>ข่าวการเมือง</td>\n",
       "      <td>6214</td>\n",
       "      <td>0.053074</td>\n",
       "      <td>03 - Political News</td>\n",
       "    </tr>\n",
       "    <tr>\n",
       "      <td>3</td>\n",
       "      <td>ข่าวสังคม</td>\n",
       "      <td>5191</td>\n",
       "      <td>0.044336</td>\n",
       "      <td>04 - Society News</td>\n",
       "    </tr>\n",
       "    <tr>\n",
       "      <td>4</td>\n",
       "      <td>ข่าวเศรษฐกิจ</td>\n",
       "      <td>3003</td>\n",
       "      <td>0.025649</td>\n",
       "      <td>05 - Economic News</td>\n",
       "    </tr>\n",
       "    <tr>\n",
       "      <td>6</td>\n",
       "      <td>ข่าวบันเทิง</td>\n",
       "      <td>2764</td>\n",
       "      <td>0.023607</td>\n",
       "      <td>06 - Entertainment News</td>\n",
       "    </tr>\n",
       "    <tr>\n",
       "      <td>5</td>\n",
       "      <td>ข่าวโซเชียล</td>\n",
       "      <td>2663</td>\n",
       "      <td>0.022745</td>\n",
       "      <td>07 - Socialnetwork News</td>\n",
       "    </tr>\n",
       "    <tr>\n",
       "      <td>9</td>\n",
       "      <td>เลือกตั้ง</td>\n",
       "      <td>2565</td>\n",
       "      <td>0.021908</td>\n",
       "      <td>08 - Election</td>\n",
       "    </tr>\n",
       "    <tr>\n",
       "      <td>7</td>\n",
       "      <td>ข่าวต่างประเทศ</td>\n",
       "      <td>2137</td>\n",
       "      <td>0.018252</td>\n",
       "      <td>09 - International News</td>\n",
       "    </tr>\n",
       "    <tr>\n",
       "      <td>10</td>\n",
       "      <td>ข่าวไลฟ์สไตล์</td>\n",
       "      <td>2007</td>\n",
       "      <td>0.017142</td>\n",
       "      <td>10 - Lifestyle News</td>\n",
       "    </tr>\n",
       "    <tr>\n",
       "      <td>11</td>\n",
       "      <td>การศึกษา</td>\n",
       "      <td>1852</td>\n",
       "      <td>0.015818</td>\n",
       "      <td>11 - Education</td>\n",
       "    </tr>\n",
       "  </tbody>\n",
       "</table>\n",
       "</div>"
      ],
      "text/plain": [
       "             label    cnt       per                 en_label\n",
       "0       ข่าวทั่วไป  58401  0.498804        00 - General News\n",
       "1         ข่าวกีฬา  15557  0.132873          01 - Sport News\n",
       "8      ข่าวทั่วไทย  14728  0.125792          02 - Local News\n",
       "2     ข่าวการเมือง   6214  0.053074      03 - Political News\n",
       "3        ข่าวสังคม   5191  0.044336        04 - Society News\n",
       "4     ข่าวเศรษฐกิจ   3003  0.025649       05 - Economic News\n",
       "6      ข่าวบันเทิง   2764  0.023607  06 - Entertainment News\n",
       "5      ข่าวโซเชียล   2663  0.022745  07 - Socialnetwork News\n",
       "9        เลือกตั้ง   2565  0.021908            08 - Election\n",
       "7   ข่าวต่างประเทศ   2137  0.018252  09 - International News\n",
       "10   ข่าวไลฟ์สไตล์   2007  0.017142      10 - Lifestyle News\n",
       "11        การศึกษา   1852  0.015818           11 - Education"
      ]
     },
     "execution_count": 17,
     "metadata": {},
     "output_type": "execute_result"
    }
   ],
   "source": [
    "g = (ggplot(label_df,aes(x='en_label', y='per', fill='en_label')) + geom_bar(stat='identity') +\n",
    "    theme_minimal() + scale_y_continuous(labels = lambda x: np.round(x*100,0)) +\n",
    "    xlab('Label') + ylab('Share of Samples (%)') + \n",
    "    theme(axis_text_x = element_blank(),legend_title=element_blank()))\n",
    "print(g)\n",
    "label_df"
   ]
  },
  {
   "cell_type": "markdown",
   "metadata": {},
   "source": [
    "### Label Correlation"
   ]
  },
  {
   "cell_type": "code",
   "execution_count": 28,
   "metadata": {},
   "outputs": [],
   "source": [
    "corr_df.columns = label_df.en_label"
   ]
  },
  {
   "cell_type": "code",
   "execution_count": 29,
   "metadata": {},
   "outputs": [
    {
     "data": {
      "text/plain": [
       "<matplotlib.axes._subplots.AxesSubplot at 0x1c3134e5d0>"
      ]
     },
     "execution_count": 29,
     "metadata": {},
     "output_type": "execute_result"
    },
    {
     "data": {
      "image/png": "[encoded data removed]",
      "text/plain": [
       "<Figure size 864x864 with 2 Axes>"
      ]
     },
     "metadata": {
      "needs_background": "light"
     },
     "output_type": "display_data"
    }
   ],
   "source": [
    "plt.figure(figsize=(12,12))\n",
    "corr = corr_df.corr(method='pearson')\n",
    "sns.heatmap(corr, cmap=sns.diverging_palette(220, 10, as_cmap=True), \n",
    "            vmin=-1, vmax=1, annot=True)"
   ]
  },
  {
   "cell_type": "code",
   "execution_count": 30,
   "metadata": {},
   "outputs": [
    {
     "data": {
      "text/plain": [
       "<matplotlib.axes._subplots.AxesSubplot at 0x1c1e542850>"
      ]
     },
     "execution_count": 30,
     "metadata": {},
     "output_type": "execute_result"
    },
    {
     "data": {
      "image/png": "[encoded data removed]",
      "text/plain": [
       "<Figure size 504x504 with 2 Axes>"
      ]
     },
     "metadata": {
      "needs_background": "light"
     },
     "output_type": "display_data"
    }
   ],
   "source": [
    "plt.figure(figsize=(7,7))\n",
    "corr = corr_df.corr(method='pearson')\n",
    "sns.heatmap(corr[(corr>0.15) | (corr<-0.15)], cmap=sns.diverging_palette(220, 10, as_cmap=True), \n",
    "            vmin=-1, vmax=1, annot=True)"
   ]
  },
  {
   "cell_type": "markdown",
   "metadata": {},
   "source": [
    "## Title"
   ]
  },
  {
   "cell_type": "code",
   "execution_count": 31,
   "metadata": {},
   "outputs": [],
   "source": [
    "from sklearn.feature_extraction.text import CountVectorizer\n",
    "\n",
    "title_cnt = CountVectorizer(tokenizer=word_tokenize)\n",
    "title_mat = title_cnt.fit_transform(thairath.title)"
   ]
  },
  {
   "cell_type": "markdown",
   "metadata": {},
   "source": [
    "### Title Word Count Distribution"
   ]
  },
  {
   "cell_type": "code",
   "execution_count": 32,
   "metadata": {},
   "outputs": [],
   "source": [
    "title_wc = pd.DataFrame(title_mat.sum(axis=1))\n",
    "title_wc.columns = ['word_count']"
   ]
  },
  {
   "cell_type": "code",
   "execution_count": 33,
   "metadata": {},
   "outputs": [
    {
     "name": "stdout",
     "output_type": "stream",
     "text": [
      "Average Title Word Count: 15.73732074762926\n"
     ]
    },
    {
     "data": {
      "image/png": "[encoded data removed]",
      "text/plain": [
       "<Figure size 640x480 with 1 Axes>"
      ]
     },
     "metadata": {
      "needs_background": "light"
     },
     "output_type": "display_data"
    },
    {
     "data": {
      "text/plain": [
       "<ggplot: (7575185549)>"
      ]
     },
     "execution_count": 33,
     "metadata": {},
     "output_type": "execute_result"
    }
   ],
   "source": [
    "g = (ggplot(title_wc, aes(x='word_count')) + geom_histogram(bins=30) + theme_minimal() +\n",
    "    xlab('Title Word Count') + ylab('Number of Samples') + \n",
    "    geom_vline(xintercept = np.mean(title_wc.word_count), color='red'))\n",
    "print(f'Average Title Word Count: {np.mean(title_wc.word_count)}')\n",
    "g"
   ]
  },
  {
   "cell_type": "markdown",
   "metadata": {},
   "source": [
    "### Title Word Frequency"
   ]
  },
  {
   "cell_type": "code",
   "execution_count": 34,
   "metadata": {},
   "outputs": [],
   "source": [
    "title_top = pd.DataFrame({\n",
    "    'vocab': list(title_cnt.get_feature_names()),\n",
    "    'cnt': np.asarray(title_mat.sum(axis=0)).squeeze()}).sort_values('cnt',ascending=False)\n",
    "title_top = title_top.reset_index(drop=True).reset_index()"
   ]
  },
  {
   "cell_type": "code",
   "execution_count": 35,
   "metadata": {},
   "outputs": [
    {
     "data": {
      "text/html": [
       "<div>\n",
       "<style scoped>\n",
       "    .dataframe tbody tr th:only-of-type {\n",
       "        vertical-align: middle;\n",
       "    }\n",
       "\n",
       "    .dataframe tbody tr th {\n",
       "        vertical-align: top;\n",
       "    }\n",
       "\n",
       "    .dataframe thead th {\n",
       "        text-align: right;\n",
       "    }\n",
       "</style>\n",
       "<table border=\"1\" class=\"dataframe\">\n",
       "  <thead>\n",
       "    <tr style=\"text-align: right;\">\n",
       "      <th></th>\n",
       "      <th>index</th>\n",
       "      <th>vocab</th>\n",
       "      <th>cnt</th>\n",
       "    </tr>\n",
       "  </thead>\n",
       "  <tbody>\n",
       "    <tr>\n",
       "      <td>0</td>\n",
       "      <td>0</td>\n",
       "      <td></td>\n",
       "      <td>756092</td>\n",
       "    </tr>\n",
       "    <tr>\n",
       "      <td>1</td>\n",
       "      <td>1</td>\n",
       "      <td>-</td>\n",
       "      <td>36994</td>\n",
       "    </tr>\n",
       "    <tr>\n",
       "      <td>2</td>\n",
       "      <td>2</td>\n",
       "      <td>ไม่</td>\n",
       "      <td>17679</td>\n",
       "    </tr>\n",
       "    <tr>\n",
       "      <td>3</td>\n",
       "      <td>3</td>\n",
       "      <td>2</td>\n",
       "      <td>16000</td>\n",
       "    </tr>\n",
       "    <tr>\n",
       "      <td>4</td>\n",
       "      <td>4</td>\n",
       "      <td>ที่</td>\n",
       "      <td>15190</td>\n",
       "    </tr>\n",
       "  </tbody>\n",
       "</table>\n",
       "</div>"
      ],
      "text/plain": [
       "   index vocab     cnt\n",
       "0      0        756092\n",
       "1      1     -   36994\n",
       "2      2   ไม่   17679\n",
       "3      3     2   16000\n",
       "4      4   ที่   15190"
      ]
     },
     "execution_count": 35,
     "metadata": {},
     "output_type": "execute_result"
    }
   ],
   "source": [
    "title_top.head()"
   ]
  },
  {
   "cell_type": "code",
   "execution_count": 36,
   "metadata": {},
   "outputs": [
    {
     "name": "stdout",
     "output_type": "stream",
     "text": [
      "Median Title Word Frequency: 5.0\n"
     ]
    },
    {
     "data": {
      "image/png": "[encoded data removed]",
      "text/plain": [
       "<Figure size 640x480 with 1 Axes>"
      ]
     },
     "metadata": {
      "needs_background": "light"
     },
     "output_type": "display_data"
    },
    {
     "data": {
      "text/plain": [
       "<ggplot: (7575177973)>"
      ]
     },
     "execution_count": 36,
     "metadata": {},
     "output_type": "execute_result"
    }
   ],
   "source": [
    "g = (ggplot(title_top.iloc[5:500,:], aes(x='index',y='cnt')) + geom_bar(stat='identity') + theme_minimal() +\n",
    "    xlab('Word Frequency') + ylab('Number of Words') + \n",
    "    geom_vline(xintercept = np.mean(title_wc.word_count), color='red'))\n",
    "print(f'Median Title Word Frequency: {np.median(title_top.cnt)}')\n",
    "g"
   ]
  },
  {
   "cell_type": "code",
   "execution_count": 37,
   "metadata": {},
   "outputs": [
    {
     "data": {
      "text/html": [
       "<div>\n",
       "<style scoped>\n",
       "    .dataframe tbody tr th:only-of-type {\n",
       "        vertical-align: middle;\n",
       "    }\n",
       "\n",
       "    .dataframe tbody tr th {\n",
       "        vertical-align: top;\n",
       "    }\n",
       "\n",
       "    .dataframe thead th {\n",
       "        text-align: right;\n",
       "    }\n",
       "</style>\n",
       "<table border=\"1\" class=\"dataframe\">\n",
       "  <thead>\n",
       "    <tr style=\"text-align: right;\">\n",
       "      <th></th>\n",
       "      <th>index</th>\n",
       "      <th>vocab</th>\n",
       "      <th>cnt</th>\n",
       "    </tr>\n",
       "  </thead>\n",
       "  <tbody>\n",
       "    <tr>\n",
       "      <td>0</td>\n",
       "      <td>0</td>\n",
       "      <td></td>\n",
       "      <td>756092</td>\n",
       "    </tr>\n",
       "    <tr>\n",
       "      <td>1</td>\n",
       "      <td>1</td>\n",
       "      <td>-</td>\n",
       "      <td>36994</td>\n",
       "    </tr>\n",
       "    <tr>\n",
       "      <td>2</td>\n",
       "      <td>2</td>\n",
       "      <td>ไม่</td>\n",
       "      <td>17679</td>\n",
       "    </tr>\n",
       "    <tr>\n",
       "      <td>3</td>\n",
       "      <td>3</td>\n",
       "      <td>2</td>\n",
       "      <td>16000</td>\n",
       "    </tr>\n",
       "    <tr>\n",
       "      <td>4</td>\n",
       "      <td>4</td>\n",
       "      <td>ที่</td>\n",
       "      <td>15190</td>\n",
       "    </tr>\n",
       "    <tr>\n",
       "      <td>5</td>\n",
       "      <td>5</td>\n",
       "      <td>ไทย</td>\n",
       "      <td>14496</td>\n",
       "    </tr>\n",
       "    <tr>\n",
       "      <td>6</td>\n",
       "      <td>6</td>\n",
       "      <td>ใน</td>\n",
       "      <td>12738</td>\n",
       "    </tr>\n",
       "    <tr>\n",
       "      <td>7</td>\n",
       "      <td>7</td>\n",
       "      <td>คลิป</td>\n",
       "      <td>11679</td>\n",
       "    </tr>\n",
       "    <tr>\n",
       "      <td>8</td>\n",
       "      <td>8</td>\n",
       "      <td>3</td>\n",
       "      <td>11636</td>\n",
       "    </tr>\n",
       "    <tr>\n",
       "      <td>9</td>\n",
       "      <td>9</td>\n",
       "      <td>)</td>\n",
       "      <td>11469</td>\n",
       "    </tr>\n",
       "  </tbody>\n",
       "</table>\n",
       "</div>"
      ],
      "text/plain": [
       "   index vocab     cnt\n",
       "0      0        756092\n",
       "1      1     -   36994\n",
       "2      2   ไม่   17679\n",
       "3      3     2   16000\n",
       "4      4   ที่   15190\n",
       "5      5   ไทย   14496\n",
       "6      6    ใน   12738\n",
       "7      7  คลิป   11679\n",
       "8      8     3   11636\n",
       "9      9     )   11469"
      ]
     },
     "execution_count": 37,
     "metadata": {},
     "output_type": "execute_result"
    }
   ],
   "source": [
    "title_top.head(10)"
   ]
  },
  {
   "cell_type": "markdown",
   "metadata": {},
   "source": [
    "### Text Feature Correlations"
   ]
  },
  {
   "cell_type": "code",
   "execution_count": 38,
   "metadata": {},
   "outputs": [
    {
     "data": {
      "text/plain": [
       "0         ข่าวทั่วไป\n",
       "1           ข่าวกีฬา\n",
       "8        ข่าวทั่วไทย\n",
       "2       ข่าวการเมือง\n",
       "3          ข่าวสังคม\n",
       "4       ข่าวเศรษฐกิจ\n",
       "6        ข่าวบันเทิง\n",
       "5        ข่าวโซเชียล\n",
       "9          เลือกตั้ง\n",
       "7     ข่าวต่างประเทศ\n",
       "10     ข่าวไลฟ์สไตล์\n",
       "11          การศึกษา\n",
       "Name: label, dtype: object"
      ]
     },
     "execution_count": 38,
     "metadata": {},
     "output_type": "execute_result"
    }
   ],
   "source": [
    "label_df.label"
   ]
  },
  {
   "cell_type": "code",
   "execution_count": 44,
   "metadata": {},
   "outputs": [],
   "source": [
    "from class_features import *\n",
    "from sklearn.feature_extraction.text import TfidfVectorizer"
   ]
  },
  {
   "cell_type": "markdown",
   "metadata": {},
   "source": [
    "-- To be updated --"
   ]
  },
  {
   "cell_type": "code",
   "execution_count": null,
   "metadata": {},
   "outputs": [],
   "source": []
  }
 ],
 "metadata": {
  "kernelspec": {
   "display_name": "Python 3",
   "language": "python",
   "name": "python3"
  },
  "language_info": {
   "codemirror_mode": {
    "name": "ipython",
    "version": 3
   },
   "file_extension": ".py",
   "mimetype": "text/x-python",
   "name": "python",
   "nbconvert_exporter": "python",
   "pygments_lexer": "ipython3",
   "version": "3.7.4"
  }
 },
 "nbformat": 4,
 "nbformat_minor": 1
}
